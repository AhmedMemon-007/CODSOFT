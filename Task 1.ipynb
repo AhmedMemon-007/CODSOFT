{
  "nbformat": 4,
  "nbformat_minor": 0,
  "metadata": {
    "colab": {
      "provenance": []
    },
    "kernelspec": {
      "name": "python3",
      "display_name": "Python 3"
    },
    "language_info": {
      "name": "python"
    }
  },
  "cells": [
    {
      "cell_type": "code",
      "execution_count": null,
      "metadata": {
        "colab": {
          "base_uri": "https://localhost:8080/"
        },
        "id": "OIRx3HhKk9EV",
        "outputId": "f98cdf24-0304-4d73-e05c-f0458e8eecd4"
      },
      "outputs": [
        {
          "output_type": "stream",
          "name": "stdout",
          "text": [
            "Welcome to the simple chatbot!\n",
            "You can start typing your messages. Type 'exit' to end the conversation.\n",
            "You: hi\n",
            "Chatbot: Hello there! How can I assist you today?\n",
            "You: what is your name\n",
            "Chatbot: I'm just a simple chatbot. You can call me ChatGPT!\n"
          ]
        }
      ],
      "source": [
        "import re\n",
        "\n",
        "def respond_to_input(user_input):\n",
        "    # Define patterns and corresponding responses\n",
        "    patterns_responses = {\n",
        "        r\"hi|hello|hey\": \"Hello there! How can I assist you today?\",\n",
        "        r\"how are you\": \"I'm just a chatbot, but thanks for asking!\",\n",
        "        r\"what is your name\": \"I'm just a simple chatbot. You can call me ChatGPT!\",\n",
        "        r\"bye|goodbye\": \"Goodbye! Have a great day!\",\n",
        "        r\"thank you|thanks\": \"You're welcome! If you have any more questions, feel free to ask.\",\n",
        "        r\".*\": \"I'm sorry, I didn't quite understand. Can you please rephrase that?\"\n",
        "    }\n",
        "\n",
        "    # Iterate over patterns and responses to find a match\n",
        "    for pattern, response in patterns_responses.items():\n",
        "        if re.match(pattern, user_input.lower()):\n",
        "            return response\n",
        "    return \"I'm sorry, I didn't quite understand. Can you please rephrase that?\"\n",
        "\n",
        "# Main function to interact with the chatbot\n",
        "def main():\n",
        "    print(\"Welcome to the simple chatbot!\")\n",
        "    print(\"You can start typing your messages. Type 'exit' to end the conversation.\")\n",
        "\n",
        "    while True:\n",
        "        user_input = input(\"You: \")\n",
        "\n",
        "        # Check for exit condition\n",
        "        if user_input.lower() == 'exit':\n",
        "            print(\"Goodbye! Have a great day!\")\n",
        "            break\n",
        "\n",
        "        # Respond to user input\n",
        "        response = respond_to_input(user_input)\n",
        "        print(\"Chatbot:\", response)\n",
        "\n",
        "if __name__ == \"__main__\":\n",
        "    main()\n"
      ]
    }
  ]
}